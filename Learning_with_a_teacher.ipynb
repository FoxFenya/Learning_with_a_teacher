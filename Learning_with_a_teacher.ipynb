{
 "cells": [
  {
   "cell_type": "markdown",
   "metadata": {
    "toc": true
   },
   "source": [
    "<h1>Содержание<span class=\"tocSkip\"></span></h1>\n",
    "<div class=\"toc\"><ul class=\"toc-item\"><li><span><a href=\"#Описание-работы\" data-toc-modified-id=\"Описание-работы-1\"><span class=\"toc-item-num\">1&nbsp;&nbsp;</span>Описание работы</a></span><ul class=\"toc-item\"><li><span><a href=\"#Постановка-задачи\" data-toc-modified-id=\"Постановка-задачи-1.1\"><span class=\"toc-item-num\">1.1&nbsp;&nbsp;</span>Постановка задачи</a></span></li><li><span><a href=\"#Этапы-решения-задачи\" data-toc-modified-id=\"Этапы-решения-задачи-1.2\"><span class=\"toc-item-num\">1.2&nbsp;&nbsp;</span>Этапы решения задачи</a></span></li></ul></li><li><span><a href=\"#Изучение-данных\" data-toc-modified-id=\"Изучение-данных-2\"><span class=\"toc-item-num\">2&nbsp;&nbsp;</span>Изучение данных</a></span><ul class=\"toc-item\"><li><span><a href=\"#Импорт-библиотек\" data-toc-modified-id=\"Импорт-библиотек-2.1\"><span class=\"toc-item-num\">2.1&nbsp;&nbsp;</span>Импорт библиотек</a></span></li><li><span><a href=\"#Загрузка-данных\" data-toc-modified-id=\"Загрузка-данных-2.2\"><span class=\"toc-item-num\">2.2&nbsp;&nbsp;</span>Загрузка данных</a></span></li><li><span><a href=\"#Просмотр-данных\" data-toc-modified-id=\"Просмотр-данных-2.3\"><span class=\"toc-item-num\">2.3&nbsp;&nbsp;</span>Просмотр данных</a></span></li><li><span><a href=\"#Изучение-баланса-классов\" data-toc-modified-id=\"Изучение-баланса-классов-2.4\"><span class=\"toc-item-num\">2.4&nbsp;&nbsp;</span>Изучение баланса классов</a></span></li><li><span><a href=\"#Заполнение-пропусков\" data-toc-modified-id=\"Заполнение-пропусков-2.5\"><span class=\"toc-item-num\">2.5&nbsp;&nbsp;</span>Заполнение пропусков</a></span></li><li><span><a href=\"#Выводы-по-изученным-данным\" data-toc-modified-id=\"Выводы-по-изученным-данным-2.6\"><span class=\"toc-item-num\">2.6&nbsp;&nbsp;</span>Выводы по изученным данным</a></span></li></ul></li><li><span><a href=\"#Исследование-задачи\" data-toc-modified-id=\"Исследование-задачи-3\"><span class=\"toc-item-num\">3&nbsp;&nbsp;</span>Исследование задачи</a></span><ul class=\"toc-item\"><li><span><a href=\"#Разбиение-данных-на-выборки-обучающую,-валидационную-и-тестовую\" data-toc-modified-id=\"Разбиение-данных-на-выборки-обучающую,-валидационную-и-тестовую-3.1\"><span class=\"toc-item-num\">3.1&nbsp;&nbsp;</span>Разбиение данных на выборки обучающую, валидационную и тестовую</a></span></li><li><span><a href=\"#Преобразуем-категориальные-перемнные-в-дамми-признаки\" data-toc-modified-id=\"Преобразуем-категориальные-перемнные-в-дамми-признаки-3.2\"><span class=\"toc-item-num\">3.2&nbsp;&nbsp;</span>Преобразуем категориальные перемнные в дамми-признаки</a></span></li><li><span><a href=\"#Масштабирование-признаков\" data-toc-modified-id=\"Масштабирование-признаков-3.3\"><span class=\"toc-item-num\">3.3&nbsp;&nbsp;</span>Масштабирование признаков</a></span></li><li><span><a href=\"#Модель-DecisionTreeClassifier\" data-toc-modified-id=\"Модель-DecisionTreeClassifier-3.4\"><span class=\"toc-item-num\">3.4&nbsp;&nbsp;</span>Модель DecisionTreeClassifier</a></span></li><li><span><a href=\"#Модель-LogisticRegression\" data-toc-modified-id=\"Модель-LogisticRegression-3.5\"><span class=\"toc-item-num\">3.5&nbsp;&nbsp;</span>Модель LogisticRegression</a></span></li><li><span><a href=\"#Модель-RandomForestClassifier\" data-toc-modified-id=\"Модель-RandomForestClassifier-3.6\"><span class=\"toc-item-num\">3.6&nbsp;&nbsp;</span>Модель RandomForestClassifier</a></span></li><li><span><a href=\"#Выводы\" data-toc-modified-id=\"Выводы-3.7\"><span class=\"toc-item-num\">3.7&nbsp;&nbsp;</span>Выводы</a></span></li></ul></li><li><span><a href=\"#Борьба-с-дисбалансом\" data-toc-modified-id=\"Борьба-с-дисбалансом-4\"><span class=\"toc-item-num\">4&nbsp;&nbsp;</span>Борьба с дисбалансом</a></span><ul class=\"toc-item\"><li><span><a href=\"#Проверим-соотношение-классов-на-обучающей-выборке\" data-toc-modified-id=\"Проверим-соотношение-классов-на-обучающей-выборке-4.1\"><span class=\"toc-item-num\">4.1&nbsp;&nbsp;</span>Проверим соотношение классов на обучающей выборке</a></span></li><li><span><a href=\"#Увеличесние-количества-объектов-редкого-класса-(1)\" data-toc-modified-id=\"Увеличесние-количества-объектов-редкого-класса-(1)-4.2\"><span class=\"toc-item-num\">4.2&nbsp;&nbsp;</span>Увеличесние количества объектов редкого класса (1)</a></span></li><li><span><a href=\"#Модель-DecisionTreeClassifier-на-сбалансированной-выборке\" data-toc-modified-id=\"Модель-DecisionTreeClassifier-на-сбалансированной-выборке-4.3\"><span class=\"toc-item-num\">4.3&nbsp;&nbsp;</span>Модель DecisionTreeClassifier на сбалансированной выборке</a></span><ul class=\"toc-item\"><li><span><a href=\"#Балансировка-class_weight='balanced'\" data-toc-modified-id=\"Балансировка-class_weight='balanced'-4.3.1\"><span class=\"toc-item-num\">4.3.1&nbsp;&nbsp;</span>Балансировка class_weight='balanced'</a></span></li><li><span><a href=\"#Балансировка-upsampled\" data-toc-modified-id=\"Балансировка-upsampled-4.3.2\"><span class=\"toc-item-num\">4.3.2&nbsp;&nbsp;</span>Балансировка upsampled</a></span></li></ul></li><li><span><a href=\"#Модель-LogisticRegression\" data-toc-modified-id=\"Модель-LogisticRegression-4.4\"><span class=\"toc-item-num\">4.4&nbsp;&nbsp;</span>Модель LogisticRegression</a></span><ul class=\"toc-item\"><li><span><a href=\"#Балансировка-class_weight='balanced'\" data-toc-modified-id=\"Балансировка-class_weight='balanced'-4.4.1\"><span class=\"toc-item-num\">4.4.1&nbsp;&nbsp;</span>Балансировка class_weight='balanced'</a></span></li><li><span><a href=\"#Балансировка-upsampled\" data-toc-modified-id=\"Балансировка-upsampled-4.4.2\"><span class=\"toc-item-num\">4.4.2&nbsp;&nbsp;</span>Балансировка upsampled</a></span></li></ul></li><li><span><a href=\"#Модель-RandomForestClassifier\" data-toc-modified-id=\"Модель-RandomForestClassifier-4.5\"><span class=\"toc-item-num\">4.5&nbsp;&nbsp;</span>Модель RandomForestClassifier</a></span><ul class=\"toc-item\"><li><span><a href=\"#Балансировка-class_weight='balanced'\" data-toc-modified-id=\"Балансировка-class_weight='balanced'-4.5.1\"><span class=\"toc-item-num\">4.5.1&nbsp;&nbsp;</span>Балансировка class_weight='balanced'</a></span></li><li><span><a href=\"#Балансировка-upsampled\" data-toc-modified-id=\"Балансировка-upsampled-4.5.2\"><span class=\"toc-item-num\">4.5.2&nbsp;&nbsp;</span>Балансировка upsampled</a></span></li></ul></li></ul></li><li><span><a href=\"#Тестирование-модели\" data-toc-modified-id=\"Тестирование-модели-5\"><span class=\"toc-item-num\">5&nbsp;&nbsp;</span>Тестирование модели</a></span></li><li><span><a href=\"#Проверка-модели-на-адекватность\" data-toc-modified-id=\"Проверка-модели-на-адекватность-6\"><span class=\"toc-item-num\">6&nbsp;&nbsp;</span>Проверка модели на адекватность</a></span></li><li><span><a href=\"#Roc-кривая-и-AUC-ROC\" data-toc-modified-id=\"Roc-кривая-и-AUC-ROC-7\"><span class=\"toc-item-num\">7&nbsp;&nbsp;</span>Roc-кривая и AUC-ROC</a></span></li><li><span><a href=\"#Общий-вывод\" data-toc-modified-id=\"Общий-вывод-8\"><span class=\"toc-item-num\">8&nbsp;&nbsp;</span>Общий вывод</a></span></li><li><span><a href=\"#Чек-лист-готовности-проекта\" data-toc-modified-id=\"Чек-лист-готовности-проекта-9\"><span class=\"toc-item-num\">9&nbsp;&nbsp;</span>Чек-лист готовности проекта</a></span></li></ul></div>"
   ]
  },
  {
   "cell_type": "markdown",
   "metadata": {},
   "source": [
    "# Отток клиентов"
   ]
  },
  {
   "cell_type": "markdown",
   "metadata": {},
   "source": [
    "## Описание работы"
   ]
  },
  {
   "cell_type": "markdown",
   "metadata": {},
   "source": [
    "### Постановка задачи"
   ]
  },
  {
   "cell_type": "markdown",
   "metadata": {},
   "source": [
    "Из «Бета-Банка» стали уходить клиенты. Каждый месяц. Немного, но заметно. Банковские маркетологи посчитали: сохранять текущих клиентов дешевле, чем привлекать новых.\n",
    "\n",
    "1. Нужно спрогнозировать, уйдёт клиент из банка в ближайшее время или нет. Модель потсроить на основе исторических данных о поведении клиентов и расторжении договоров с банком. \n",
    "\n",
    "2. Необходимо найти модель с предельно большим значением *F1*-меры (метрика должна быть доведена до 0.59). Проверить *F1*-меру на тестовой выборке.\n",
    "\n",
    "3. Измерерить *AUC-ROC*, сравнить её значение с *F1*-мерой.\n",
    "\n",
    "Источник данных: [https://www.kaggle.com/barelydedicated/bank-customer-churn-modeling](https://www.kaggle.com/barelydedicated/bank-customer-churn-modeling)"
   ]
  },
  {
   "cell_type": "markdown",
   "metadata": {},
   "source": [
    "### Этапы решения задачи"
   ]
  },
  {
   "cell_type": "markdown",
   "metadata": {},
   "source": [
    "1. Загрузить и изучить файл с данными.\n",
    "2. Исследовать баланс классов.\n",
    "2. Выделить обещающую, валидационную и тестовую выборки из данных.\n",
    "3. Обучить модели без учёта дисбаланса классов.\n",
    "4. Сбалансировать классы и обучить модель, учитывая дисбаланс классов. Выбрать лучшую модель.\n",
    "5. Проверить выбранную модель на тестовой выборке."
   ]
  },
  {
   "cell_type": "markdown",
   "metadata": {},
   "source": [
    "## Изучение данных"
   ]
  },
  {
   "cell_type": "markdown",
   "metadata": {},
   "source": [
    "### Импорт библиотек"
   ]
  },
  {
   "cell_type": "code",
   "execution_count": 8,
   "metadata": {},
   "outputs": [
    {
     "name": "stdout",
     "output_type": "stream",
     "text": [
      "Requirement already satisfied: scikit-learn==1.1.3 in c:\\users\\fenya\\anaconda3\\lib\\site-packages (1.1.3)\n",
      "Requirement already satisfied: scipy>=1.3.2 in c:\\users\\fenya\\anaconda3\\lib\\site-packages (from scikit-learn==1.1.3) (1.7.3)\n",
      "Requirement already satisfied: numpy>=1.17.3 in c:\\users\\fenya\\anaconda3\\lib\\site-packages (from scikit-learn==1.1.3) (1.21.5)\n",
      "Requirement already satisfied: threadpoolctl>=2.0.0 in c:\\users\\fenya\\anaconda3\\lib\\site-packages (from scikit-learn==1.1.3) (2.2.0)\n",
      "Requirement already satisfied: joblib>=1.0.0 in c:\\users\\fenya\\anaconda3\\lib\\site-packages (from scikit-learn==1.1.3) (1.1.0)\n"
     ]
    }
   ],
   "source": [
    "!pip install scikit-learn==1.1.3"
   ]
  },
  {
   "cell_type": "code",
   "execution_count": 9,
   "metadata": {},
   "outputs": [],
   "source": [
    "import pandas as pd\n",
    "import matplotlib.pyplot as plt\n",
    "from sklearn.ensemble import RandomForestClassifier\n",
    "from sklearn.linear_model import LogisticRegression\n",
    "from sklearn.tree import DecisionTreeClassifier\n",
    "from sklearn.model_selection import train_test_split\n",
    "from sklearn.preprocessing import StandardScaler\n",
    "from sklearn.utils import shuffle\n",
    "from sklearn.metrics import (\n",
    "    accuracy_score,\n",
    "    confusion_matrix,\n",
    "    precision_score,\n",
    "    recall_score,\n",
    "    f1_score,\n",
    "    roc_curve,\n",
    "    roc_auc_score\n",
    ")\n",
    "from sklearn.preprocessing import (\n",
    "    OneHotEncoder,\n",
    "    StandardScaler\n",
    ")"
   ]
  },
  {
   "cell_type": "markdown",
   "metadata": {},
   "source": [
    "### Загрузка данных"
   ]
  },
  {
   "cell_type": "code",
   "execution_count": 10,
   "metadata": {},
   "outputs": [],
   "source": [
    "#Читаем данные из файла\n",
    "data = pd.read_csv('G:/Education/Sprints/Спринт 9/Обучение с учителем/Churn.csv')"
   ]
  },
  {
   "cell_type": "markdown",
   "metadata": {},
   "source": [
    "### Просмотр данных"
   ]
  },
  {
   "cell_type": "code",
   "execution_count": 11,
   "metadata": {},
   "outputs": [
    {
     "data": {
      "text/html": [
       "<div>\n",
       "<style scoped>\n",
       "    .dataframe tbody tr th:only-of-type {\n",
       "        vertical-align: middle;\n",
       "    }\n",
       "\n",
       "    .dataframe tbody tr th {\n",
       "        vertical-align: top;\n",
       "    }\n",
       "\n",
       "    .dataframe thead th {\n",
       "        text-align: right;\n",
       "    }\n",
       "</style>\n",
       "<table border=\"1\" class=\"dataframe\">\n",
       "  <thead>\n",
       "    <tr style=\"text-align: right;\">\n",
       "      <th></th>\n",
       "      <th>RowNumber</th>\n",
       "      <th>CustomerId</th>\n",
       "      <th>Surname</th>\n",
       "      <th>CreditScore</th>\n",
       "      <th>Geography</th>\n",
       "      <th>Gender</th>\n",
       "      <th>Age</th>\n",
       "      <th>Tenure</th>\n",
       "      <th>Balance</th>\n",
       "      <th>NumOfProducts</th>\n",
       "      <th>HasCrCard</th>\n",
       "      <th>IsActiveMember</th>\n",
       "      <th>EstimatedSalary</th>\n",
       "      <th>Exited</th>\n",
       "    </tr>\n",
       "  </thead>\n",
       "  <tbody>\n",
       "    <tr>\n",
       "      <th>0</th>\n",
       "      <td>1</td>\n",
       "      <td>15634602</td>\n",
       "      <td>Hargrave</td>\n",
       "      <td>619</td>\n",
       "      <td>France</td>\n",
       "      <td>Female</td>\n",
       "      <td>42</td>\n",
       "      <td>2.0</td>\n",
       "      <td>0.00</td>\n",
       "      <td>1</td>\n",
       "      <td>1</td>\n",
       "      <td>1</td>\n",
       "      <td>101348.88</td>\n",
       "      <td>1</td>\n",
       "    </tr>\n",
       "    <tr>\n",
       "      <th>1</th>\n",
       "      <td>2</td>\n",
       "      <td>15647311</td>\n",
       "      <td>Hill</td>\n",
       "      <td>608</td>\n",
       "      <td>Spain</td>\n",
       "      <td>Female</td>\n",
       "      <td>41</td>\n",
       "      <td>1.0</td>\n",
       "      <td>83807.86</td>\n",
       "      <td>1</td>\n",
       "      <td>0</td>\n",
       "      <td>1</td>\n",
       "      <td>112542.58</td>\n",
       "      <td>0</td>\n",
       "    </tr>\n",
       "    <tr>\n",
       "      <th>2</th>\n",
       "      <td>3</td>\n",
       "      <td>15619304</td>\n",
       "      <td>Onio</td>\n",
       "      <td>502</td>\n",
       "      <td>France</td>\n",
       "      <td>Female</td>\n",
       "      <td>42</td>\n",
       "      <td>8.0</td>\n",
       "      <td>159660.80</td>\n",
       "      <td>3</td>\n",
       "      <td>1</td>\n",
       "      <td>0</td>\n",
       "      <td>113931.57</td>\n",
       "      <td>1</td>\n",
       "    </tr>\n",
       "    <tr>\n",
       "      <th>3</th>\n",
       "      <td>4</td>\n",
       "      <td>15701354</td>\n",
       "      <td>Boni</td>\n",
       "      <td>699</td>\n",
       "      <td>France</td>\n",
       "      <td>Female</td>\n",
       "      <td>39</td>\n",
       "      <td>1.0</td>\n",
       "      <td>0.00</td>\n",
       "      <td>2</td>\n",
       "      <td>0</td>\n",
       "      <td>0</td>\n",
       "      <td>93826.63</td>\n",
       "      <td>0</td>\n",
       "    </tr>\n",
       "    <tr>\n",
       "      <th>4</th>\n",
       "      <td>5</td>\n",
       "      <td>15737888</td>\n",
       "      <td>Mitchell</td>\n",
       "      <td>850</td>\n",
       "      <td>Spain</td>\n",
       "      <td>Female</td>\n",
       "      <td>43</td>\n",
       "      <td>2.0</td>\n",
       "      <td>125510.82</td>\n",
       "      <td>1</td>\n",
       "      <td>1</td>\n",
       "      <td>1</td>\n",
       "      <td>79084.10</td>\n",
       "      <td>0</td>\n",
       "    </tr>\n",
       "  </tbody>\n",
       "</table>\n",
       "</div>"
      ],
      "text/plain": [
       "   RowNumber  CustomerId   Surname  CreditScore Geography  Gender  Age  \\\n",
       "0          1    15634602  Hargrave          619    France  Female   42   \n",
       "1          2    15647311      Hill          608     Spain  Female   41   \n",
       "2          3    15619304      Onio          502    France  Female   42   \n",
       "3          4    15701354      Boni          699    France  Female   39   \n",
       "4          5    15737888  Mitchell          850     Spain  Female   43   \n",
       "\n",
       "   Tenure    Balance  NumOfProducts  HasCrCard  IsActiveMember  \\\n",
       "0     2.0       0.00              1          1               1   \n",
       "1     1.0   83807.86              1          0               1   \n",
       "2     8.0  159660.80              3          1               0   \n",
       "3     1.0       0.00              2          0               0   \n",
       "4     2.0  125510.82              1          1               1   \n",
       "\n",
       "   EstimatedSalary  Exited  \n",
       "0        101348.88       1  \n",
       "1        112542.58       0  \n",
       "2        113931.57       1  \n",
       "3         93826.63       0  \n",
       "4         79084.10       0  "
      ]
     },
     "metadata": {},
     "output_type": "display_data"
    },
    {
     "name": "stdout",
     "output_type": "stream",
     "text": [
      "<class 'pandas.core.frame.DataFrame'>\n",
      "RangeIndex: 10000 entries, 0 to 9999\n",
      "Data columns (total 14 columns):\n",
      " #   Column           Non-Null Count  Dtype  \n",
      "---  ------           --------------  -----  \n",
      " 0   RowNumber        10000 non-null  int64  \n",
      " 1   CustomerId       10000 non-null  int64  \n",
      " 2   Surname          10000 non-null  object \n",
      " 3   CreditScore      10000 non-null  int64  \n",
      " 4   Geography        10000 non-null  object \n",
      " 5   Gender           10000 non-null  object \n",
      " 6   Age              10000 non-null  int64  \n",
      " 7   Tenure           9091 non-null   float64\n",
      " 8   Balance          10000 non-null  float64\n",
      " 9   NumOfProducts    10000 non-null  int64  \n",
      " 10  HasCrCard        10000 non-null  int64  \n",
      " 11  IsActiveMember   10000 non-null  int64  \n",
      " 12  EstimatedSalary  10000 non-null  float64\n",
      " 13  Exited           10000 non-null  int64  \n",
      "dtypes: float64(3), int64(8), object(3)\n",
      "memory usage: 1.1+ MB\n",
      "---------------------------------\n",
      "Количество уникальных фамилий\n",
      "2932\n"
     ]
    }
   ],
   "source": [
    "display(data.head(5))\n",
    "data.info()\n",
    "\n",
    "print('---------------------------------')\n",
    "print('Количество уникальных фамилий')\n",
    "print(data['Surname'].nunique())"
   ]
  },
  {
   "cell_type": "markdown",
   "metadata": {},
   "source": [
    "Данные содержит 10000 объектов, каждый из объектов имеет 14 признаков.\n",
    "\n",
    "1. RowNumber — индекс строки в данных\n",
    "2. CustomerId — уникальный идентификатор клиента\n",
    "3. Surname — фамилия\n",
    "4. CreditScore — кредитный рейтинг\n",
    "5. Geography — страна проживания\n",
    "6. Gender — пол\n",
    "7. Age — возраст\n",
    "8. Tenure — сколько лет человек является клиентом банка\n",
    "9. Balance — баланс на счёте\n",
    "10. NumOfProducts — количество продуктов банка, используемых клиентом\n",
    "11. HasCrCard — наличие кредитной карты\n",
    "12. IsActiveMember — активность клиента\n",
    "13. EstimatedSalary — предполагаемая зарплата\n",
    "14. Exited — факт ухода клиента\n",
    "\n",
    "Некоторые столбцы необходимо преобразовать в числовые переменные это:\n",
    "1. Geography\n",
    "2. Gender\n",
    "\n",
    "Данные, которые я бы исключила из признаков модели:\n",
    "1. RowNumber. Потому что это просто порядковый номер строки, он не значим в рамках поставленой задачи\n",
    "2. CustomerId. По той же причине, что и RowNumber. Это просто зашифрованный id клиента, который ниразу не повторяется.\n",
    "3. Surname. в датасете представлено 2932 фамилии клиента, однако это все время разные клиенты, так как они имеют разный id. Превращать эту переменную в классы очень сильно утяжелит задачу, да и выглядит некорректным (разные же люди), а смысловой нагрузки для поставленной задачи этот фактор не имеет.\n"
   ]
  },
  {
   "cell_type": "code",
   "execution_count": 12,
   "metadata": {},
   "outputs": [
    {
     "data": {
      "text/html": [
       "<div>\n",
       "<style scoped>\n",
       "    .dataframe tbody tr th:only-of-type {\n",
       "        vertical-align: middle;\n",
       "    }\n",
       "\n",
       "    .dataframe tbody tr th {\n",
       "        vertical-align: top;\n",
       "    }\n",
       "\n",
       "    .dataframe thead th {\n",
       "        text-align: right;\n",
       "    }\n",
       "</style>\n",
       "<table border=\"1\" class=\"dataframe\">\n",
       "  <thead>\n",
       "    <tr style=\"text-align: right;\">\n",
       "      <th></th>\n",
       "      <th>CreditScore</th>\n",
       "      <th>Geography</th>\n",
       "      <th>Gender</th>\n",
       "      <th>Age</th>\n",
       "      <th>Tenure</th>\n",
       "      <th>Balance</th>\n",
       "      <th>NumOfProducts</th>\n",
       "      <th>HasCrCard</th>\n",
       "      <th>IsActiveMember</th>\n",
       "      <th>EstimatedSalary</th>\n",
       "      <th>Exited</th>\n",
       "    </tr>\n",
       "  </thead>\n",
       "  <tbody>\n",
       "    <tr>\n",
       "      <th>0</th>\n",
       "      <td>619</td>\n",
       "      <td>France</td>\n",
       "      <td>Female</td>\n",
       "      <td>42</td>\n",
       "      <td>2.0</td>\n",
       "      <td>0.00</td>\n",
       "      <td>1</td>\n",
       "      <td>1</td>\n",
       "      <td>1</td>\n",
       "      <td>101348.88</td>\n",
       "      <td>1</td>\n",
       "    </tr>\n",
       "    <tr>\n",
       "      <th>1</th>\n",
       "      <td>608</td>\n",
       "      <td>Spain</td>\n",
       "      <td>Female</td>\n",
       "      <td>41</td>\n",
       "      <td>1.0</td>\n",
       "      <td>83807.86</td>\n",
       "      <td>1</td>\n",
       "      <td>0</td>\n",
       "      <td>1</td>\n",
       "      <td>112542.58</td>\n",
       "      <td>0</td>\n",
       "    </tr>\n",
       "    <tr>\n",
       "      <th>2</th>\n",
       "      <td>502</td>\n",
       "      <td>France</td>\n",
       "      <td>Female</td>\n",
       "      <td>42</td>\n",
       "      <td>8.0</td>\n",
       "      <td>159660.80</td>\n",
       "      <td>3</td>\n",
       "      <td>1</td>\n",
       "      <td>0</td>\n",
       "      <td>113931.57</td>\n",
       "      <td>1</td>\n",
       "    </tr>\n",
       "    <tr>\n",
       "      <th>3</th>\n",
       "      <td>699</td>\n",
       "      <td>France</td>\n",
       "      <td>Female</td>\n",
       "      <td>39</td>\n",
       "      <td>1.0</td>\n",
       "      <td>0.00</td>\n",
       "      <td>2</td>\n",
       "      <td>0</td>\n",
       "      <td>0</td>\n",
       "      <td>93826.63</td>\n",
       "      <td>0</td>\n",
       "    </tr>\n",
       "    <tr>\n",
       "      <th>4</th>\n",
       "      <td>850</td>\n",
       "      <td>Spain</td>\n",
       "      <td>Female</td>\n",
       "      <td>43</td>\n",
       "      <td>2.0</td>\n",
       "      <td>125510.82</td>\n",
       "      <td>1</td>\n",
       "      <td>1</td>\n",
       "      <td>1</td>\n",
       "      <td>79084.10</td>\n",
       "      <td>0</td>\n",
       "    </tr>\n",
       "  </tbody>\n",
       "</table>\n",
       "</div>"
      ],
      "text/plain": [
       "   CreditScore Geography  Gender  Age  Tenure    Balance  NumOfProducts  \\\n",
       "0          619    France  Female   42     2.0       0.00              1   \n",
       "1          608     Spain  Female   41     1.0   83807.86              1   \n",
       "2          502    France  Female   42     8.0  159660.80              3   \n",
       "3          699    France  Female   39     1.0       0.00              2   \n",
       "4          850     Spain  Female   43     2.0  125510.82              1   \n",
       "\n",
       "   HasCrCard  IsActiveMember  EstimatedSalary  Exited  \n",
       "0          1               1        101348.88       1  \n",
       "1          0               1        112542.58       0  \n",
       "2          1               0        113931.57       1  \n",
       "3          0               0         93826.63       0  \n",
       "4          1               1         79084.10       0  "
      ]
     },
     "execution_count": 12,
     "metadata": {},
     "output_type": "execute_result"
    }
   ],
   "source": [
    "data = data.drop(['RowNumber','CustomerId','Surname'], axis=1) # удалим признаки из датасета\n",
    "data.head(5)"
   ]
  },
  {
   "cell_type": "markdown",
   "metadata": {},
   "source": [
    "После всех преобразований видно, что столбец Exited будет эндогенной (зависимой) переменной модели или откликом, а остальные 11 столбцов будут экзогенным(независимыми) переменными."
   ]
  },
  {
   "cell_type": "markdown",
   "metadata": {},
   "source": [
    "### Изучение баланса классов"
   ]
  },
  {
   "cell_type": "code",
   "execution_count": 13,
   "metadata": {},
   "outputs": [
    {
     "name": "stdout",
     "output_type": "stream",
     "text": [
      "-------------------------------\n",
      "Доля каждого класса в датасете:\n"
     ]
    },
    {
     "data": {
      "text/plain": [
       "0    0.7963\n",
       "1    0.2037\n",
       "Name: Exited, dtype: float64"
      ]
     },
     "execution_count": 13,
     "metadata": {},
     "output_type": "execute_result"
    }
   ],
   "source": [
    "print('-------------------------------')\n",
    "print('Доля каждого класса в датасете:')\n",
    "data['Exited'].value_counts(True)"
   ]
  },
  {
   "cell_type": "markdown",
   "metadata": {},
   "source": [
    "Из анализа видно, что отток клиентов составляется 20%."
   ]
  },
  {
   "cell_type": "markdown",
   "metadata": {},
   "source": [
    "### Заполнение пропусков"
   ]
  },
  {
   "cell_type": "code",
   "execution_count": 14,
   "metadata": {},
   "outputs": [
    {
     "name": "stdout",
     "output_type": "stream",
     "text": [
      "<class 'pandas.core.frame.DataFrame'>\n",
      "RangeIndex: 10000 entries, 0 to 9999\n",
      "Data columns (total 11 columns):\n",
      " #   Column           Non-Null Count  Dtype  \n",
      "---  ------           --------------  -----  \n",
      " 0   CreditScore      10000 non-null  int64  \n",
      " 1   Geography        10000 non-null  object \n",
      " 2   Gender           10000 non-null  object \n",
      " 3   Age              10000 non-null  int64  \n",
      " 4   Tenure           10000 non-null  float64\n",
      " 5   Balance          10000 non-null  float64\n",
      " 6   NumOfProducts    10000 non-null  int64  \n",
      " 7   HasCrCard        10000 non-null  int64  \n",
      " 8   IsActiveMember   10000 non-null  int64  \n",
      " 9   EstimatedSalary  10000 non-null  float64\n",
      " 10  Exited           10000 non-null  int64  \n",
      "dtypes: float64(3), int64(6), object(2)\n",
      "memory usage: 859.5+ KB\n"
     ]
    }
   ],
   "source": [
    "#Так как методы машинного обучения не могу работать с пропусками в данных, заполним пропуски медианой\n",
    "data['Tenure'] = data['Tenure'].fillna(data['Tenure'].median()) \n",
    "data.info()"
   ]
  },
  {
   "cell_type": "markdown",
   "metadata": {},
   "source": [
    "### Выводы по изученным данным"
   ]
  },
  {
   "cell_type": "markdown",
   "metadata": {},
   "source": [
    "Итоговый датасет для обучения модели будет состоять из следующих экзогенных (зависимых) переменных:\n",
    "Категориальные переменные:\n",
    "1. Geography\n",
    "2. Gender\n",
    "3. HasCrCard\n",
    "4. IsActiveMember\n",
    "\n",
    "Количественные переменные:\n",
    "1. CreditScore        \n",
    "2. Age\n",
    "3. Tenure\n",
    "4. NumOfProducts\n",
    "\n",
    "Неприрывные переменные:\n",
    "1. Balance\n",
    "2. EstimatedSalary\n",
    "\n",
    "Признак Exited является эндогенным (зависимым) и бинарным.\n",
    "\n",
    "Всего в обучении тестировании и валидации будет использовано 10000 наблюдений\n"
   ]
  },
  {
   "cell_type": "markdown",
   "metadata": {},
   "source": [
    "## Исследование задачи"
   ]
  },
  {
   "cell_type": "markdown",
   "metadata": {},
   "source": [
    "### Разбиение данных на выборки обучающую, валидационную и тестовую"
   ]
  },
  {
   "cell_type": "code",
   "execution_count": 15,
   "metadata": {},
   "outputs": [],
   "source": [
    "X = data.drop(['Exited'], axis=1)\n",
    "y = data['Exited']\n",
    "\n",
    "#Выделяем обучающую выборку 60 на 40\n",
    "X_train, X_valid_test, y_train, y_valid_test = train_test_split(\n",
    "    X, y, test_size=0.4, random_state=12345, stratify=y)\n",
    "\n",
    "#выделяем валидационную и тестовую выборки 20 на 20\n",
    "X_valid, X_test, y_valid, y_test = train_test_split(\n",
    "    X_valid_test, y_valid_test, test_size=0.5, random_state=12345, stratify=y_valid_test)"
   ]
  },
  {
   "cell_type": "markdown",
   "metadata": {},
   "source": [
    "### Преобразуем категориальные перемнные в дамми-признаки"
   ]
  },
  {
   "cell_type": "code",
   "execution_count": 16,
   "metadata": {},
   "outputs": [],
   "source": [
    "X_train_ohe = X_train.copy()\n",
    "X_valid_ohe = X_valid.copy()\n",
    "X_test_ohe = X_test.copy()\n",
    "\n",
    "categor = ['Geography', 'Gender']\n",
    "encoder_ohe = OneHotEncoder(drop='first', handle_unknown='ignore', sparse=False)\n",
    "encoder_ohe.fit(X_train_ohe[categor])\n",
    "\n",
    "X_train_ohe[encoder_ohe.get_feature_names_out()] = encoder_ohe.transform(X_train_ohe[categor])\n",
    "X_train_ohe = X_train_ohe.drop(categor, axis=1)\n",
    "\n",
    "X_valid_ohe[encoder_ohe.get_feature_names_out()] = encoder_ohe.transform(X_valid_ohe[categor])\n",
    "X_valid_ohe = X_valid_ohe.drop(categor, axis=1)\n",
    "\n",
    "X_test_ohe[encoder_ohe.get_feature_names_out()] = encoder_ohe.transform(X_test_ohe[categor])\n",
    "X_test_ohe = X_test_ohe.drop(categor, axis=1)"
   ]
  },
  {
   "cell_type": "markdown",
   "metadata": {},
   "source": [
    "### Масштабирование признаков"
   ]
  },
  {
   "cell_type": "code",
   "execution_count": 17,
   "metadata": {},
   "outputs": [],
   "source": [
    "# Так как у признаков разный масштаб необходимо стандартизовать их, для более корректной работы методов машинного обучения\n",
    "numeric = ['CreditScore', 'Age', 'Tenure', 'Balance', 'EstimatedSalary']\n",
    "scaler = StandardScaler()\n",
    "scaler.fit(X_train_ohe[numeric])\n",
    "\n",
    "X_train_ohe[numeric] = scaler.transform(X_train_ohe[numeric])\n",
    "X_valid_ohe[numeric] = scaler.transform(X_valid_ohe[numeric])\n",
    "X_test_ohe[numeric] = scaler.transform(X_test_ohe[numeric])"
   ]
  },
  {
   "cell_type": "markdown",
   "metadata": {},
   "source": [
    "### Модель DecisionTreeClassifier"
   ]
  },
  {
   "cell_type": "code",
   "execution_count": 32,
   "metadata": {},
   "outputs": [
    {
     "data": {
      "text/plain": [
       "'Best DTC model: accuracy = 0.843, f1 = 0.58, depth = 12'"
      ]
     },
     "execution_count": 32,
     "metadata": {},
     "output_type": "execute_result"
    }
   ],
   "source": [
    "best_modelDTC = None\n",
    "best_accuracyDTC = 0\n",
    "best_depthDTC = 0\n",
    "best_f1DTC = 0\n",
    "\n",
    "for depth in range(1,20):\n",
    "    model = DecisionTreeClassifier(random_state=12345, max_depth=depth, criterion='entropy', splitter = 'random')\n",
    "    model = model.fit(X_train_ohe, y_train)\n",
    "    valid = model.predict(X_valid_ohe)\n",
    "    accuracy = accuracy_score(y_valid, valid)\n",
    "    f1 = f1_score(y_valid, valid)\n",
    "    if f1>best_f1DTC:\n",
    "        best_modelDTC = model\n",
    "        best_accuracyDTC = accuracy\n",
    "        best_depthDTC = depth\n",
    "        best_f1DTC = round(f1,3)\n",
    "    \n",
    "'Best DTC model: accuracy = {0}, f1 = {1}, depth = {2}'.format(best_accuracyDTC, best_f1DTC, best_depthDTC)"
   ]
  },
  {
   "cell_type": "markdown",
   "metadata": {},
   "source": [
    "Для DecisionTreeClassifier лучшей оказалась модель с глубиной 12. Она корректно прогнозирует с вероятностью 0.843 и средним гармоническим f1 0.58. Запомним эту модель."
   ]
  },
  {
   "cell_type": "markdown",
   "metadata": {},
   "source": [
    "### Модель LogisticRegression"
   ]
  },
  {
   "cell_type": "code",
   "execution_count": 19,
   "metadata": {},
   "outputs": [
    {
     "data": {
      "text/plain": [
       "'Best LR model: accuracy = 0.8105, f1 = 0.305'"
      ]
     },
     "execution_count": 19,
     "metadata": {},
     "output_type": "execute_result"
    }
   ],
   "source": [
    "best_modelLR = LogisticRegression(random_state=12345, max_iter=1000, solver = 'lbfgs')\n",
    "best_modelLR = best_modelLR.fit(X_train_ohe, y_train)\n",
    "valid = best_modelLR.predict(X_valid_ohe)\n",
    "best_accuracyLR = accuracy_score(y_valid, valid)\n",
    "best_f1LR = round(f1_score(y_valid, valid),3)\n",
    "\n",
    "'Best LR model: accuracy = {0}, f1 = {1}'.format(best_accuracyLR, best_f1LR)"
   ]
  },
  {
   "cell_type": "markdown",
   "metadata": {},
   "source": [
    "Логистическая регрессия корректно прогнозирует с вероятностью 0.81 и средним гармоническим f1 0.305."
   ]
  },
  {
   "cell_type": "markdown",
   "metadata": {},
   "source": [
    "### Модель RandomForestClassifier"
   ]
  },
  {
   "cell_type": "code",
   "execution_count": 20,
   "metadata": {},
   "outputs": [
    {
     "data": {
      "text/plain": [
       "'Best RF model: accuracy = 0.869, f1 = 0.601, depth = 8 , n_estimators = 20'"
      ]
     },
     "execution_count": 20,
     "metadata": {},
     "output_type": "execute_result"
    }
   ],
   "source": [
    "best_modelRF = None\n",
    "best_accuracyRF = 0\n",
    "best_depthRF = 0\n",
    "best_n_estRF = 0\n",
    "best_f1RF = 0\n",
    "\n",
    "for depth in range(1,10):\n",
    "    for n_est in range(10, 150, 10):\n",
    "        model = RandomForestClassifier(random_state=12345, n_estimators=n_est, max_depth=depth, min_samples_split = 6)\n",
    "        model = model.fit(X_train_ohe, y_train)\n",
    "        valid = model.predict(X_valid_ohe)\n",
    "        accuracy = accuracy_score(y_valid, valid)\n",
    "        f1 = f1_score(y_valid, valid)\n",
    "        if f1>best_f1RF:\n",
    "            best_modelRF = model\n",
    "            best_accuracyRF = accuracy\n",
    "            best_depthRF = depth\n",
    "            best_n_estRF = n_est\n",
    "            best_f1RF = round(f1,3)\n",
    "    \n",
    "'Best RF model: accuracy = {0}, f1 = {1}, depth = {2} , n_estimators = {3}'.format(best_accuracyRF, best_f1RF, best_depthRF, best_n_estRF)"
   ]
  },
  {
   "cell_type": "markdown",
   "metadata": {},
   "source": [
    "Для RandomForestClassifier лучшей моделью стала ансамбль из 50 деревьев с глубиной 9. Она корректно прогнозирует с вероятностью 0.867 и средним гармоническим f1 0.591. Запомним эту модель."
   ]
  },
  {
   "cell_type": "markdown",
   "metadata": {},
   "source": [
    "### Выводы"
   ]
  },
  {
   "cell_type": "markdown",
   "metadata": {},
   "source": [
    "Среди 3 методов машинного обучения лучше всех, исходя из среднего гармонического, прогнозирует метод деревьев решений, случаный лес дышит ему в спину, а вот логистическая регрессия сильно отстаёт не смотря на то, что акурасе для всех методов выше 0.8. Попробуем улучшить результаты добавив балансы классов."
   ]
  },
  {
   "cell_type": "markdown",
   "metadata": {},
   "source": [
    "## Борьба с дисбалансом"
   ]
  },
  {
   "cell_type": "markdown",
   "metadata": {},
   "source": [
    "### Проверим соотношение классов на обучающей выборке"
   ]
  },
  {
   "cell_type": "code",
   "execution_count": 21,
   "metadata": {},
   "outputs": [
    {
     "data": {
      "text/plain": [
       "0    0.796333\n",
       "1    0.203667\n",
       "Name: Exited, dtype: float64"
      ]
     },
     "execution_count": 21,
     "metadata": {},
     "output_type": "execute_result"
    }
   ],
   "source": [
    "y_train.value_counts(True)"
   ]
  },
  {
   "cell_type": "markdown",
   "metadata": {},
   "source": [
    "### Увеличесние количества объектов редкого класса (1)"
   ]
  },
  {
   "cell_type": "code",
   "execution_count": 22,
   "metadata": {},
   "outputs": [
    {
     "data": {
      "text/plain": [
       "1    0.50569\n",
       "0    0.49431\n",
       "Name: Exited, dtype: float64"
      ]
     },
     "execution_count": 22,
     "metadata": {},
     "output_type": "execute_result"
    }
   ],
   "source": [
    "# Делим обучающую выборку на отрицательные и положительные объекты\n",
    "X_zeros = X_train_ohe[y_train == 0]\n",
    "X_ones = X_train_ohe[y_train == 1]\n",
    "y_zeros = y_train[y_train == 0]\n",
    "y_ones = y_train[y_train == 1]\n",
    "\n",
    "# Продублируем объекты редкого класса\n",
    "repeat = 4\n",
    "X_upsampled = pd.concat([X_zeros] + [X_ones] * repeat)\n",
    "y_upsampled = pd.concat([y_zeros] + [y_ones] * repeat)\n",
    "\n",
    "# Перемешаем наблюдения\n",
    "X_upsampled, y_upsampled = shuffle(X_upsampled, y_upsampled, random_state=12345)    \n",
    "\n",
    "# Проверим соотношение классов после перемешивания\n",
    "y_upsampled.value_counts(True)"
   ]
  },
  {
   "cell_type": "markdown",
   "metadata": {},
   "source": [
    "После добавления объектов баланс классов почти 50 на 50. Можно обучать модели."
   ]
  },
  {
   "cell_type": "markdown",
   "metadata": {},
   "source": [
    "### Модель DecisionTreeClassifier на сбалансированной выборке"
   ]
  },
  {
   "cell_type": "markdown",
   "metadata": {},
   "source": [
    "#### Балансировка class_weight='balanced'"
   ]
  },
  {
   "cell_type": "code",
   "execution_count": 33,
   "metadata": {},
   "outputs": [
    {
     "data": {
      "text/plain": [
       "'Best DTC model: accuracy = 0.7975, f1 = 0.602, depth = 8'"
      ]
     },
     "execution_count": 33,
     "metadata": {},
     "output_type": "execute_result"
    }
   ],
   "source": [
    "best_modelDTC = None\n",
    "best_accuracyDTC = 0\n",
    "best_depthDTC = 0\n",
    "best_f1DTC = 0\n",
    "\n",
    "for depth in range(1,20):\n",
    "    model = DecisionTreeClassifier(random_state=12345, max_depth=depth, criterion='entropy', \n",
    "                                   splitter = 'random', class_weight='balanced')\n",
    "    model = model.fit(X_train_ohe, y_train)\n",
    "    valid = model.predict(X_valid_ohe)\n",
    "    accuracy = accuracy_score(y_valid, valid)\n",
    "    f1 = f1_score(y_valid, valid)\n",
    "    if f1>best_f1DTC:\n",
    "        best_modelDTC = model\n",
    "        best_accuracyDTC = accuracy\n",
    "        best_depthDTC = depth\n",
    "        best_f1DTC = round(f1,3)\n",
    "    \n",
    "'Best DTC model: accuracy = {0}, f1 = {1}, depth = {2}'.format(best_accuracyDTC, best_f1DTC, best_depthDTC)"
   ]
  },
  {
   "cell_type": "markdown",
   "metadata": {},
   "source": [
    "#### Балансировка upsampled"
   ]
  },
  {
   "cell_type": "code",
   "execution_count": 34,
   "metadata": {},
   "outputs": [
    {
     "data": {
      "text/plain": [
       "'Best DTC model: accuracy = 0.8005, f1 = 0.599, depth = 8'"
      ]
     },
     "execution_count": 34,
     "metadata": {},
     "output_type": "execute_result"
    }
   ],
   "source": [
    "best_modelDTC = None\n",
    "best_accuracyDTC = 0\n",
    "best_depthDTC = 0\n",
    "best_f1DTC = 0\n",
    "\n",
    "for depth in range(1,20):\n",
    "    model = DecisionTreeClassifier(random_state=12345, max_depth=depth, criterion='entropy', splitter = 'random')\n",
    "    model = model.fit(X_upsampled, y_upsampled)\n",
    "    valid = model.predict(X_valid_ohe)\n",
    "    accuracy = accuracy_score(y_valid, valid)\n",
    "    f1 = f1_score(y_valid, valid)\n",
    "    if f1>best_f1DTC:\n",
    "        best_modelDTC = model\n",
    "        best_accuracyDTC = accuracy\n",
    "        best_depthDTC = depth\n",
    "        best_f1DTC = round(f1,3)\n",
    "    \n",
    "'Best DTC model: accuracy = {0}, f1 = {1}, depth = {2}'.format(best_accuracyDTC, best_f1DTC, best_depthDTC)"
   ]
  },
  {
   "cell_type": "markdown",
   "metadata": {},
   "source": [
    "Применив 2 разные балансировки классов мы видим, что модель DTC работает одинакого. f1= 0.6."
   ]
  },
  {
   "cell_type": "markdown",
   "metadata": {},
   "source": [
    "### Модель LogisticRegression"
   ]
  },
  {
   "cell_type": "markdown",
   "metadata": {},
   "source": [
    "#### Балансировка class_weight='balanced'"
   ]
  },
  {
   "cell_type": "code",
   "execution_count": 25,
   "metadata": {},
   "outputs": [
    {
     "data": {
      "text/plain": [
       "'Best LR model: accuracy = 0.7315, f1 = 0.529'"
      ]
     },
     "execution_count": 25,
     "metadata": {},
     "output_type": "execute_result"
    }
   ],
   "source": [
    "best_modelLR = LogisticRegression(random_state=12345, max_iter=1000, solver = 'lbfgs', class_weight='balanced')\n",
    "best_modelLR = best_modelLR.fit(X_train_ohe, y_train)\n",
    "valid = best_modelLR.predict(X_valid_ohe)\n",
    "best_accuracyLR = accuracy_score(y_valid, valid)\n",
    "best_f1LR = round(f1_score(y_valid, valid),3)\n",
    "\n",
    "'Best LR model: accuracy = {0}, f1 = {1}'.format(best_accuracyLR, best_f1LR)"
   ]
  },
  {
   "cell_type": "markdown",
   "metadata": {},
   "source": [
    "#### Балансировка upsampled"
   ]
  },
  {
   "cell_type": "code",
   "execution_count": 26,
   "metadata": {},
   "outputs": [
    {
     "data": {
      "text/plain": [
       "'Best LR model: accuracy = 0.725, f1 = 0.524'"
      ]
     },
     "execution_count": 26,
     "metadata": {},
     "output_type": "execute_result"
    }
   ],
   "source": [
    "best_modelLR = LogisticRegression(random_state=12345, max_iter=1000, solver = 'lbfgs')\n",
    "best_modelLR = best_modelLR.fit(X_upsampled, y_upsampled)\n",
    "valid = best_modelLR.predict(X_valid_ohe)\n",
    "best_accuracyLR = accuracy_score(y_valid, valid)\n",
    "best_f1LR = round(f1_score(y_valid, valid),3)\n",
    "\n",
    "'Best LR model: accuracy = {0}, f1 = {1}'.format(best_accuracyLR, best_f1LR)"
   ]
  },
  {
   "cell_type": "markdown",
   "metadata": {},
   "source": [
    "После балансировки классов обоими методами полученный результат LR стал лучше, но не достигает заданого уровня в 0.59. Было f1= 0.3, а теперь f1 = 0.529/f1 = 0.524."
   ]
  },
  {
   "cell_type": "markdown",
   "metadata": {},
   "source": [
    "### Модель RandomForestClassifier"
   ]
  },
  {
   "cell_type": "markdown",
   "metadata": {},
   "source": [
    "#### Балансировка class_weight='balanced'"
   ]
  },
  {
   "cell_type": "code",
   "execution_count": 27,
   "metadata": {},
   "outputs": [
    {
     "data": {
      "text/plain": [
       "'Best RF model: accuracy = 0.844, f1 = 0.643, depth = 9 , n_estimators = 140'"
      ]
     },
     "execution_count": 27,
     "metadata": {},
     "output_type": "execute_result"
    }
   ],
   "source": [
    "best_modelRF_balan = None\n",
    "best_accuracyRF_balan = 0\n",
    "best_depthRF_balan = 0\n",
    "best_n_estRF_balan = 0\n",
    "best_f1RF_balan = 0\n",
    "\n",
    "for depth in range(1,10):\n",
    "    for n_est in range(10, 150, 10):\n",
    "        model = RandomForestClassifier(random_state=12345, n_estimators=n_est, max_depth=depth, \n",
    "                                       class_weight='balanced', min_samples_split = 6)\n",
    "        model = model.fit(X_train_ohe, y_train)\n",
    "        valid = model.predict(X_valid_ohe)\n",
    "        accuracy = accuracy_score(y_valid, valid)\n",
    "        f1 = f1_score(y_valid, valid)\n",
    "        if f1>best_f1RF:\n",
    "            best_modelRF_balan = model\n",
    "            best_accuracyRF_balan = accuracy\n",
    "            best_depthRF_balan = depth\n",
    "            best_n_estRF_balan = n_est\n",
    "            best_f1RF_balan = round(f1,3)\n",
    "    \n",
    "'Best RF model: accuracy = {0}, f1 = {1}, depth = {2} , n_estimators = {3}'.format(best_accuracyRF_balan, \n",
    "                                                                                   best_f1RF_balan, best_depthRF_balan, best_n_estRF_balan)"
   ]
  },
  {
   "cell_type": "markdown",
   "metadata": {},
   "source": [
    "#### Балансировка upsampled"
   ]
  },
  {
   "cell_type": "code",
   "execution_count": 28,
   "metadata": {},
   "outputs": [
    {
     "data": {
      "text/plain": [
       "'Best RF model: accuracy = 0.832, f1 = 0.643, depth = 9 , n_estimators = 140'"
      ]
     },
     "execution_count": 28,
     "metadata": {},
     "output_type": "execute_result"
    }
   ],
   "source": [
    "best_modelRF_up = None\n",
    "best_accuracyRF_up = 0\n",
    "best_depthRF_up = 0\n",
    "best_n_estRF_up = 0\n",
    "best_f1RF_up = 0\n",
    "\n",
    "for depth in range(1,10):\n",
    "    for n_est in range(10, 150, 10):\n",
    "        model = RandomForestClassifier(random_state=12345, n_estimators=n_est, max_depth=depth, min_samples_split = 6)\n",
    "        model = model.fit(X_upsampled, y_upsampled)\n",
    "        valid = model.predict(X_valid_ohe)\n",
    "        accuracy = accuracy_score(y_valid, valid)\n",
    "        f1 = f1_score(y_valid, valid)\n",
    "        if f1>best_f1RF:\n",
    "            best_modelRF_up = model\n",
    "            best_accuracyRF_up = accuracy\n",
    "            best_depthRF_up = depth\n",
    "            best_n_estRF_up = n_est\n",
    "            best_f1RF_up = round(f1,3)\n",
    "    \n",
    "'Best RF model: accuracy = {0}, f1 = {1}, depth = {2} , n_estimators = {3}'.format(best_accuracyRF_up, \n",
    "                                                                                   best_f1RF_up, best_depthRF_up, best_n_estRF_up)"
   ]
  },
  {
   "cell_type": "markdown",
   "metadata": {},
   "source": [
    "После балансировки классов обоими методами полученный результат RF стал лучше, также он лучше, чем у остальных 2 моделей и удовлетворяет заданому уровню в 0.59. Было f1= 0.591, а теперь f1 = 0.647/f1 = 0.646\n",
    "\n",
    "Для тестирования будем использовать модель RandomForestClassifier сбалансированню методом balanced с глубиной 9 и количеством деревьев 120."
   ]
  },
  {
   "cell_type": "markdown",
   "metadata": {},
   "source": [
    "## Тестирование модели"
   ]
  },
  {
   "cell_type": "code",
   "execution_count": 29,
   "metadata": {},
   "outputs": [
    {
     "data": {
      "text/plain": [
       "'Модель:RandomForestClassifier(max_depth=8, min_samples_split=6, n_estimators=20,\\n                       random_state=12345), accuracy = 0.8335, f1 = 0.611'"
      ]
     },
     "metadata": {},
     "output_type": "display_data"
    }
   ],
   "source": [
    "validRF = best_modelRF_balan.predict(X_test_ohe)\n",
    "accuracyRF = accuracy_score(y_test, validRF)\n",
    "f1RF = round(f1_score(y_test, validRF),3)\n",
    "display('Модель:{0}, accuracy = {1}, f1 = {2}'.format(best_modelRF, accuracyRF, f1RF))"
   ]
  },
  {
   "cell_type": "markdown",
   "metadata": {},
   "source": [
    "После проверки на тестовой выборке видно, что модель RandomForestClassifier получила очень близкий к валидационному результат по accuracy (было 0.84 стало 0.81), по f1 результат чуть хуже, однако тоже удовлетворяет условиям(было 0.66 стало 0.6).  \n",
    "Из этого можно сделать вывод, что обучение прошло корректно. Модель можно использовать для прогнозирования поведения клиентов."
   ]
  },
  {
   "cell_type": "markdown",
   "metadata": {},
   "source": [
    "## Проверка модели на адекватность"
   ]
  },
  {
   "cell_type": "code",
   "execution_count": 30,
   "metadata": {},
   "outputs": [
    {
     "name": "stdout",
     "output_type": "stream",
     "text": [
      "f1_val =  0.339\n"
     ]
    }
   ],
   "source": [
    "from sklearn.dummy import DummyClassifier\n",
    "dummy_clf = DummyClassifier(strategy='constant', constant=1)\n",
    "dummy_clf = dummy_clf.fit(X_train_ohe, y_train)\n",
    "\n",
    "valid = dummy_clf.predict(X_valid_ohe)\n",
    "f1_val = round(f1_score(y_valid, valid),3)\n",
    "print('f1_val = ', f1_val)"
   ]
  },
  {
   "cell_type": "markdown",
   "metadata": {},
   "source": [
    "Для проверки модели на адекватность построим фиктивную модель откроик которой везде будет 1, это даст нам минимальное значение, которое должна привосходить модель, чтобы считаться полезной. \n",
    "\n",
    "Как видно f1 фиктивной модели ровно 0.339, а у нашей выбранной модели как на валидационной (0.66) так и на тестовой (0.6) значение метрики превосходящее. Из этого можно сделать вывод, что модель адекватна."
   ]
  },
  {
   "cell_type": "markdown",
   "metadata": {},
   "source": [
    "## Roc-кривая и AUC-ROC"
   ]
  },
  {
   "cell_type": "code",
   "execution_count": 31,
   "metadata": {},
   "outputs": [
    {
     "data": {
      "image/png": "[encoded data removed]",
      "text/plain": [
       "<Figure size 432x288 with 1 Axes>"
      ]
     },
     "metadata": {
      "needs_background": "light"
     },
     "output_type": "display_data"
    },
    {
     "name": "stdout",
     "output_type": "stream",
     "text": [
      "Метрика AUC-ROC:0.8714836437087399\n"
     ]
    }
   ],
   "source": [
    "probabilities_valid = best_modelRF.predict_proba(X_valid_ohe)\n",
    "probabilities_one_valid = probabilities_valid[:, 1]\n",
    "fpr, tpr, thresholds = roc_curve(y_valid, probabilities_one_valid)\n",
    "\n",
    "probabilities_valid_dummy = dummy_clf.predict_proba(X_valid_ohe)\n",
    "probabilities_one_valid_dummy = probabilities_valid_dummy[:, 1]\n",
    "fpr_dummy, tpr_dummy, thresholds_dummy = roc_curve(y_valid, probabilities_one_valid_dummy)\n",
    "\n",
    "plt.figure();\n",
    "plt.plot(fpr, tpr, linestyle='-')\n",
    "plt.plot(fpr_dummy, tpr_dummy, linestyle='--')\n",
    "plt.ylim([0, 1])\n",
    "plt.xlim([0, 1])\n",
    "plt.xlabel('False Positive Rate')\n",
    "plt.ylabel('True Positive Rate')\n",
    "plt.title('ROC-кривая')\n",
    "\n",
    "plt.show();\n",
    "\n",
    "auc_roc = roc_auc_score(y_valid, probabilities_one_valid)\n",
    "print('Метрика AUC-ROC:{0}'.format(auc_roc))"
   ]
  },
  {
   "cell_type": "markdown",
   "metadata": {},
   "source": [
    "Метрика AUC-ROC равно 0.87, что больше случаной модели AUC-ROC которой равен 0.5. Также метрика превосходит accuracy (0.836) и f1 (0.645) тестируемой модели.  \n",
    "\n",
    "Всё это позволяет подтвердить вывод о том, что модель адекватна, хорошо себя показывает на предоставленных данных и может быть исть использована для решения поставленной задачи."
   ]
  },
  {
   "cell_type": "markdown",
   "metadata": {},
   "source": [
    "## Общий вывод"
   ]
  },
  {
   "cell_type": "markdown",
   "metadata": {},
   "source": [
    "Из исследования видно, что лучше всего с поставленной задачей справляется метод \"Случайный лес\". Модель стабильно себя ведет как на валидационной так и на тестовой выборках и показывает результаты высокой точности. \n",
    "Можно с уверенностью сказать, что модель подходить для решения поставленной задачи."
   ]
  }
 ],
 "metadata": {
  "ExecuteTimeLog": [
   {
    "duration": 1153,
    "start_time": "2023-02-20T08:39:24.982Z"
   },
   {
    "duration": 3,
    "start_time": "2023-02-20T08:41:28.670Z"
   },
   {
    "duration": 167,
    "start_time": "2023-02-20T08:41:29.576Z"
   },
   {
    "duration": 1739,
    "start_time": "2023-02-20T08:41:30.770Z"
   },
   {
    "duration": 26,
    "start_time": "2023-02-20T08:41:51.674Z"
   },
   {
    "duration": 21,
    "start_time": "2023-02-20T08:42:08.678Z"
   },
   {
    "duration": 6,
    "start_time": "2023-02-20T08:52:49.467Z"
   },
   {
    "duration": 6,
    "start_time": "2023-02-20T09:04:56.869Z"
   },
   {
    "duration": 9,
    "start_time": "2023-02-20T09:05:04.973Z"
   },
   {
    "duration": 6,
    "start_time": "2023-02-20T09:05:22.109Z"
   },
   {
    "duration": 11,
    "start_time": "2023-02-20T09:05:37.101Z"
   },
   {
    "duration": 8,
    "start_time": "2023-02-20T09:05:43.421Z"
   },
   {
    "duration": 6,
    "start_time": "2023-02-20T09:07:04.193Z"
   },
   {
    "duration": 25,
    "start_time": "2023-02-20T09:08:31.293Z"
   },
   {
    "duration": 34,
    "start_time": "2023-02-20T09:08:46.677Z"
   },
   {
    "duration": 31,
    "start_time": "2023-02-20T09:09:44.373Z"
   },
   {
    "duration": 32,
    "start_time": "2023-02-20T09:09:53.802Z"
   },
   {
    "duration": 32,
    "start_time": "2023-02-20T09:09:57.970Z"
   },
   {
    "duration": 830,
    "start_time": "2023-02-20T10:10:25.945Z"
   },
   {
    "duration": 8,
    "start_time": "2023-02-20T10:10:32.854Z"
   },
   {
    "duration": 776,
    "start_time": "2023-02-20T10:11:03.584Z"
   },
   {
    "duration": 40,
    "start_time": "2023-02-20T10:11:08.217Z"
   },
   {
    "duration": 23,
    "start_time": "2023-02-20T10:11:09.722Z"
   },
   {
    "duration": 27,
    "start_time": "2023-02-20T10:11:16.625Z"
   },
   {
    "duration": 15,
    "start_time": "2023-02-20T10:11:36.658Z"
   },
   {
    "duration": 14,
    "start_time": "2023-02-20T10:11:52.043Z"
   },
   {
    "duration": 4,
    "start_time": "2023-02-20T10:18:43.957Z"
   },
   {
    "duration": 18,
    "start_time": "2023-02-20T10:18:53.093Z"
   },
   {
    "duration": 15,
    "start_time": "2023-02-20T10:20:12.859Z"
   },
   {
    "duration": 2,
    "start_time": "2023-02-20T10:20:18.836Z"
   },
   {
    "duration": 47,
    "start_time": "2023-02-20T10:20:18.840Z"
   },
   {
    "duration": 23,
    "start_time": "2023-02-20T10:20:18.888Z"
   },
   {
    "duration": 13,
    "start_time": "2023-02-20T10:20:22.712Z"
   },
   {
    "duration": 17,
    "start_time": "2023-02-20T10:20:22.744Z"
   },
   {
    "duration": 7,
    "start_time": "2023-02-20T10:20:22.763Z"
   },
   {
    "duration": 12,
    "start_time": "2023-02-20T10:22:54.270Z"
   },
   {
    "duration": 16,
    "start_time": "2023-02-20T10:23:02.461Z"
   },
   {
    "duration": 0,
    "start_time": "2023-02-20T10:23:02.478Z"
   },
   {
    "duration": 0,
    "start_time": "2023-02-20T10:23:02.479Z"
   },
   {
    "duration": 4,
    "start_time": "2023-02-20T10:23:12.970Z"
   },
   {
    "duration": 54,
    "start_time": "2023-02-20T10:23:12.975Z"
   },
   {
    "duration": 22,
    "start_time": "2023-02-20T10:23:13.031Z"
   },
   {
    "duration": 12,
    "start_time": "2023-02-20T10:23:13.055Z"
   },
   {
    "duration": 21,
    "start_time": "2023-02-20T10:23:13.068Z"
   },
   {
    "duration": 6,
    "start_time": "2023-02-20T10:23:13.090Z"
   },
   {
    "duration": 17,
    "start_time": "2023-02-20T10:24:24.522Z"
   },
   {
    "duration": 6,
    "start_time": "2023-02-20T10:57:49.927Z"
   },
   {
    "duration": 4,
    "start_time": "2023-02-20T10:58:19.476Z"
   },
   {
    "duration": 7,
    "start_time": "2023-02-20T10:58:27.727Z"
   },
   {
    "duration": 10,
    "start_time": "2023-02-20T11:02:46.230Z"
   },
   {
    "duration": 3,
    "start_time": "2023-02-20T11:03:00.217Z"
   },
   {
    "duration": 62,
    "start_time": "2023-02-20T11:03:00.222Z"
   },
   {
    "duration": 28,
    "start_time": "2023-02-20T11:03:00.286Z"
   },
   {
    "duration": 31,
    "start_time": "2023-02-20T11:03:00.316Z"
   },
   {
    "duration": 38,
    "start_time": "2023-02-20T11:03:00.349Z"
   },
   {
    "duration": 20,
    "start_time": "2023-02-20T11:03:00.389Z"
   },
   {
    "duration": 5,
    "start_time": "2023-02-20T11:03:02.777Z"
   },
   {
    "duration": 13,
    "start_time": "2023-02-20T11:11:51.914Z"
   },
   {
    "duration": 25,
    "start_time": "2023-02-20T11:37:27.760Z"
   },
   {
    "duration": 18,
    "start_time": "2023-02-20T11:38:15.194Z"
   },
   {
    "duration": 20,
    "start_time": "2023-02-20T11:38:42.007Z"
   },
   {
    "duration": 942,
    "start_time": "2023-02-20T11:46:12.508Z"
   },
   {
    "duration": 1415,
    "start_time": "2023-02-20T11:46:40.659Z"
   },
   {
    "duration": 3,
    "start_time": "2023-02-20T11:46:49.841Z"
   },
   {
    "duration": 45,
    "start_time": "2023-02-20T11:46:49.846Z"
   },
   {
    "duration": 27,
    "start_time": "2023-02-20T11:46:53.961Z"
   },
   {
    "duration": 4,
    "start_time": "2023-02-20T12:00:03.483Z"
   },
   {
    "duration": 10,
    "start_time": "2023-02-20T12:00:17.430Z"
   },
   {
    "duration": 11,
    "start_time": "2023-02-20T12:00:23.222Z"
   },
   {
    "duration": 10,
    "start_time": "2023-02-20T12:00:33.357Z"
   },
   {
    "duration": 11,
    "start_time": "2023-02-20T12:01:33.201Z"
   },
   {
    "duration": 4,
    "start_time": "2023-02-20T12:01:57.301Z"
   },
   {
    "duration": 53,
    "start_time": "2023-02-20T12:01:57.307Z"
   },
   {
    "duration": 23,
    "start_time": "2023-02-20T12:01:57.362Z"
   },
   {
    "duration": 13,
    "start_time": "2023-02-20T12:01:57.386Z"
   },
   {
    "duration": 23,
    "start_time": "2023-02-20T12:01:57.401Z"
   },
   {
    "duration": 7,
    "start_time": "2023-02-20T12:01:57.425Z"
   },
   {
    "duration": 15,
    "start_time": "2023-02-20T12:01:57.433Z"
   },
   {
    "duration": 13,
    "start_time": "2023-02-20T12:02:01.097Z"
   },
   {
    "duration": 392,
    "start_time": "2023-02-20T12:02:03.575Z"
   },
   {
    "duration": 15,
    "start_time": "2023-02-20T12:03:52.963Z"
   },
   {
    "duration": 17,
    "start_time": "2023-02-20T12:04:06.530Z"
   },
   {
    "duration": 3,
    "start_time": "2023-02-20T12:08:24.168Z"
   },
   {
    "duration": 15,
    "start_time": "2023-02-20T12:11:13.741Z"
   },
   {
    "duration": 19,
    "start_time": "2023-02-20T12:11:32.009Z"
   },
   {
    "duration": 25,
    "start_time": "2023-02-20T12:11:39.592Z"
   },
   {
    "duration": 17,
    "start_time": "2023-02-20T12:11:58.360Z"
   },
   {
    "duration": 18,
    "start_time": "2023-02-20T12:12:46.811Z"
   },
   {
    "duration": 4,
    "start_time": "2023-02-20T12:12:58.493Z"
   },
   {
    "duration": 47,
    "start_time": "2023-02-20T12:12:58.500Z"
   },
   {
    "duration": 24,
    "start_time": "2023-02-20T12:12:58.548Z"
   },
   {
    "duration": 13,
    "start_time": "2023-02-20T12:12:58.573Z"
   },
   {
    "duration": 43,
    "start_time": "2023-02-20T12:12:58.588Z"
   },
   {
    "duration": 7,
    "start_time": "2023-02-20T12:12:58.633Z"
   },
   {
    "duration": 15,
    "start_time": "2023-02-20T12:12:58.641Z"
   },
   {
    "duration": 16,
    "start_time": "2023-02-20T12:12:58.658Z"
   },
   {
    "duration": 16,
    "start_time": "2023-02-20T12:13:00.812Z"
   },
   {
    "duration": 12,
    "start_time": "2023-02-20T12:13:02.159Z"
   },
   {
    "duration": 11,
    "start_time": "2023-02-20T12:13:21.354Z"
   },
   {
    "duration": 390,
    "start_time": "2023-02-20T12:13:23.026Z"
   },
   {
    "duration": 17,
    "start_time": "2023-02-20T13:09:18.917Z"
   },
   {
    "duration": 423,
    "start_time": "2023-02-20T13:09:44.133Z"
   },
   {
    "duration": 421,
    "start_time": "2023-02-20T13:10:31.205Z"
   },
   {
    "duration": 457,
    "start_time": "2023-02-20T13:11:28.624Z"
   },
   {
    "duration": 426,
    "start_time": "2023-02-20T13:11:56.547Z"
   },
   {
    "duration": 422,
    "start_time": "2023-02-20T13:12:00.860Z"
   },
   {
    "duration": 376,
    "start_time": "2023-02-20T13:14:57.422Z"
   },
   {
    "duration": 34894,
    "start_time": "2023-02-20T13:22:17.461Z"
   },
   {
    "duration": 34972,
    "start_time": "2023-02-20T13:24:23.629Z"
   },
   {
    "duration": 2252,
    "start_time": "2023-02-20T13:25:13.992Z"
   },
   {
    "duration": 35049,
    "start_time": "2023-02-20T13:25:21.325Z"
   },
   {
    "duration": 292,
    "start_time": "2023-02-20T13:30:55.603Z"
   },
   {
    "duration": 227,
    "start_time": "2023-02-20T13:31:01.566Z"
   },
   {
    "duration": 10,
    "start_time": "2023-02-20T13:54:14.546Z"
   },
   {
    "duration": 3,
    "start_time": "2023-02-20T13:58:00.664Z"
   },
   {
    "duration": 21,
    "start_time": "2023-02-20T13:58:04.852Z"
   },
   {
    "duration": 28,
    "start_time": "2023-02-20T13:58:26.313Z"
   },
   {
    "duration": 19,
    "start_time": "2023-02-20T14:00:19.660Z"
   },
   {
    "duration": 43,
    "start_time": "2023-02-20T14:00:28.096Z"
   },
   {
    "duration": 16,
    "start_time": "2023-02-20T14:00:30.420Z"
   },
   {
    "duration": 22,
    "start_time": "2023-02-20T14:00:46.369Z"
   },
   {
    "duration": 14,
    "start_time": "2023-02-20T14:00:51.088Z"
   },
   {
    "duration": 15,
    "start_time": "2023-02-20T14:01:29.871Z"
   },
   {
    "duration": 11,
    "start_time": "2023-02-20T14:02:08.623Z"
   },
   {
    "duration": 11,
    "start_time": "2023-02-20T14:02:54.539Z"
   },
   {
    "duration": 7,
    "start_time": "2023-02-20T14:14:42.424Z"
   },
   {
    "duration": 6,
    "start_time": "2023-02-20T14:15:11.113Z"
   },
   {
    "duration": 12,
    "start_time": "2023-02-20T14:15:59.617Z"
   },
   {
    "duration": 15,
    "start_time": "2023-02-20T14:16:02.958Z"
   },
   {
    "duration": 16,
    "start_time": "2023-02-20T14:16:09.293Z"
   },
   {
    "duration": 16,
    "start_time": "2023-02-20T14:16:20.461Z"
   },
   {
    "duration": 23,
    "start_time": "2023-02-20T14:17:06.284Z"
   },
   {
    "duration": 517,
    "start_time": "2023-02-20T14:20:03.022Z"
   },
   {
    "duration": 2,
    "start_time": "2023-02-20T14:21:30.521Z"
   },
   {
    "duration": 141,
    "start_time": "2023-02-20T14:21:46.058Z"
   },
   {
    "duration": 285,
    "start_time": "2023-02-20T14:22:09.805Z"
   },
   {
    "duration": 47472,
    "start_time": "2023-02-20T14:23:49.881Z"
   },
   {
    "duration": 34738,
    "start_time": "2023-02-20T14:29:45.280Z"
   },
   {
    "duration": 17,
    "start_time": "2023-02-20T14:33:06.554Z"
   },
   {
    "duration": 309,
    "start_time": "2023-02-20T14:34:34.289Z"
   },
   {
    "duration": 26,
    "start_time": "2023-02-20T14:39:32.411Z"
   },
   {
    "duration": 25,
    "start_time": "2023-02-20T14:39:43.354Z"
   },
   {
    "duration": 25,
    "start_time": "2023-02-20T14:42:18.698Z"
   },
   {
    "duration": 9,
    "start_time": "2023-02-20T14:51:38.405Z"
   },
   {
    "duration": 17,
    "start_time": "2023-02-20T14:51:46.876Z"
   },
   {
    "duration": 59,
    "start_time": "2023-02-20T14:52:01.350Z"
   },
   {
    "duration": 59,
    "start_time": "2023-02-20T14:52:17.163Z"
   },
   {
    "duration": 61,
    "start_time": "2023-02-20T14:52:28.741Z"
   },
   {
    "duration": 56,
    "start_time": "2023-02-20T14:52:42.574Z"
   },
   {
    "duration": 332,
    "start_time": "2023-02-20T14:53:03.199Z"
   },
   {
    "duration": 126,
    "start_time": "2023-02-20T14:53:09.326Z"
   },
   {
    "duration": 57,
    "start_time": "2023-02-20T14:53:21.600Z"
   },
   {
    "duration": 173,
    "start_time": "2023-02-20T14:53:55.017Z"
   },
   {
    "duration": 175,
    "start_time": "2023-02-20T14:54:35.733Z"
   },
   {
    "duration": 170,
    "start_time": "2023-02-20T15:02:07.179Z"
   },
   {
    "duration": 168,
    "start_time": "2023-02-20T15:02:11.758Z"
   },
   {
    "duration": 153,
    "start_time": "2023-02-20T15:02:18.585Z"
   },
   {
    "duration": 6921,
    "start_time": "2023-02-21T13:50:11.138Z"
   },
   {
    "duration": 195,
    "start_time": "2023-02-21T13:50:18.064Z"
   },
   {
    "duration": 114,
    "start_time": "2023-02-21T13:50:18.339Z"
   },
   {
    "duration": 94,
    "start_time": "2023-02-21T13:50:18.459Z"
   },
   {
    "duration": 281,
    "start_time": "2023-02-21T13:50:18.559Z"
   },
   {
    "duration": 198,
    "start_time": "2023-02-21T13:50:18.846Z"
   },
   {
    "duration": 210,
    "start_time": "2023-02-21T13:50:19.046Z"
   },
   {
    "duration": 216,
    "start_time": "2023-02-21T13:50:19.346Z"
   },
   {
    "duration": 192,
    "start_time": "2023-02-21T13:50:19.564Z"
   },
   {
    "duration": 98,
    "start_time": "2023-02-21T13:50:19.762Z"
   },
   {
    "duration": 2384,
    "start_time": "2023-02-21T13:50:19.863Z"
   },
   {
    "duration": 607,
    "start_time": "2023-02-21T13:50:22.250Z"
   },
   {
    "duration": 219103,
    "start_time": "2023-02-21T13:50:22.941Z"
   },
   {
    "duration": 16,
    "start_time": "2023-02-21T13:54:02.046Z"
   },
   {
    "duration": 200,
    "start_time": "2023-02-21T13:54:02.137Z"
   },
   {
    "duration": 2696,
    "start_time": "2023-02-21T13:54:02.345Z"
   },
   {
    "duration": 1306,
    "start_time": "2023-02-21T13:54:05.042Z"
   },
   {
    "duration": 296193,
    "start_time": "2023-02-21T13:54:06.351Z"
   },
   {
    "duration": 302,
    "start_time": "2023-02-21T13:59:02.548Z"
   },
   {
    "duration": 1194,
    "start_time": "2023-02-21T13:59:02.852Z"
   },
   {
    "duration": 1675,
    "start_time": "2023-02-22T07:01:52.250Z"
   },
   {
    "duration": 4,
    "start_time": "2023-02-22T07:02:18.808Z"
   },
   {
    "duration": 4,
    "start_time": "2023-02-22T12:29:26.303Z"
   },
   {
    "duration": 46,
    "start_time": "2023-02-22T12:47:16.157Z"
   },
   {
    "duration": 1501,
    "start_time": "2023-02-22T12:52:14.775Z"
   },
   {
    "duration": 179,
    "start_time": "2023-02-22T12:52:16.278Z"
   },
   {
    "duration": 32,
    "start_time": "2023-02-22T12:52:17.366Z"
   },
   {
    "duration": 14,
    "start_time": "2023-02-22T12:52:18.821Z"
   },
   {
    "duration": 2,
    "start_time": "2023-02-22T12:52:21.477Z"
   },
   {
    "duration": 75,
    "start_time": "2023-02-22T12:52:24.576Z"
   },
   {
    "duration": 9,
    "start_time": "2023-02-22T12:52:33.348Z"
   },
   {
    "duration": 11,
    "start_time": "2023-02-22T12:52:37.767Z"
   },
   {
    "duration": 10,
    "start_time": "2023-02-22T12:52:43.127Z"
   },
   {
    "duration": 13,
    "start_time": "2023-02-22T12:52:50.899Z"
   },
   {
    "duration": 3,
    "start_time": "2023-02-22T12:52:55.043Z"
   },
   {
    "duration": 10,
    "start_time": "2023-02-22T12:53:03.527Z"
   },
   {
    "duration": 15,
    "start_time": "2023-02-22T12:53:14.358Z"
   },
   {
    "duration": 37,
    "start_time": "2023-02-22T12:53:51.483Z"
   },
   {
    "duration": 10,
    "start_time": "2023-02-22T13:00:47.840Z"
   },
   {
    "duration": 9,
    "start_time": "2023-02-22T13:01:44.195Z"
   },
   {
    "duration": 4,
    "start_time": "2023-02-22T13:01:55.070Z"
   },
   {
    "duration": 12,
    "start_time": "2023-02-22T13:02:03.452Z"
   },
   {
    "duration": 13,
    "start_time": "2023-02-22T13:03:30.449Z"
   },
   {
    "duration": 5,
    "start_time": "2023-02-22T13:03:43.825Z"
   },
   {
    "duration": 801,
    "start_time": "2023-02-22T13:04:11.438Z"
   },
   {
    "duration": 13,
    "start_time": "2023-02-22T13:04:57.057Z"
   },
   {
    "duration": 6895,
    "start_time": "2023-02-22T13:07:28.287Z"
   },
   {
    "duration": 5,
    "start_time": "2023-02-22T13:07:48.269Z"
   },
   {
    "duration": 17,
    "start_time": "2023-02-22T13:07:57.240Z"
   },
   {
    "duration": 2201,
    "start_time": "2023-02-22T13:08:57.754Z"
   },
   {
    "duration": 1270,
    "start_time": "2023-02-22T13:08:59.958Z"
   },
   {
    "duration": 44,
    "start_time": "2023-02-22T13:09:01.231Z"
   },
   {
    "duration": 28,
    "start_time": "2023-02-22T13:09:01.277Z"
   },
   {
    "duration": 22,
    "start_time": "2023-02-22T13:09:01.307Z"
   },
   {
    "duration": 26,
    "start_time": "2023-02-22T13:09:01.331Z"
   },
   {
    "duration": 61,
    "start_time": "2023-02-22T13:09:01.358Z"
   },
   {
    "duration": 37,
    "start_time": "2023-02-22T13:09:01.421Z"
   },
   {
    "duration": 14,
    "start_time": "2023-02-22T13:09:01.460Z"
   },
   {
    "duration": 66,
    "start_time": "2023-02-22T13:09:01.476Z"
   },
   {
    "duration": 62,
    "start_time": "2023-02-22T13:09:01.543Z"
   },
   {
    "duration": 179,
    "start_time": "2023-02-22T13:09:01.607Z"
   },
   {
    "duration": 0,
    "start_time": "2023-02-22T13:09:01.787Z"
   },
   {
    "duration": 0,
    "start_time": "2023-02-22T13:09:01.788Z"
   },
   {
    "duration": 0,
    "start_time": "2023-02-22T13:09:01.790Z"
   },
   {
    "duration": 0,
    "start_time": "2023-02-22T13:09:01.791Z"
   },
   {
    "duration": 0,
    "start_time": "2023-02-22T13:09:01.792Z"
   },
   {
    "duration": 0,
    "start_time": "2023-02-22T13:09:01.794Z"
   },
   {
    "duration": 0,
    "start_time": "2023-02-22T13:09:01.795Z"
   },
   {
    "duration": 0,
    "start_time": "2023-02-22T13:09:01.796Z"
   },
   {
    "duration": 0,
    "start_time": "2023-02-22T13:09:01.797Z"
   },
   {
    "duration": 0,
    "start_time": "2023-02-22T13:09:01.798Z"
   },
   {
    "duration": 8,
    "start_time": "2023-02-22T13:09:15.628Z"
   },
   {
    "duration": 17,
    "start_time": "2023-02-22T13:13:04.480Z"
   },
   {
    "duration": 23,
    "start_time": "2023-02-22T13:13:15.334Z"
   },
   {
    "duration": 13,
    "start_time": "2023-02-22T13:16:11.253Z"
   },
   {
    "duration": 16,
    "start_time": "2023-02-22T13:16:44.864Z"
   },
   {
    "duration": 12,
    "start_time": "2023-02-22T13:16:48.857Z"
   },
   {
    "duration": 14,
    "start_time": "2023-02-22T13:17:52.034Z"
   },
   {
    "duration": 20,
    "start_time": "2023-02-22T13:19:32.184Z"
   },
   {
    "duration": 32,
    "start_time": "2023-02-22T13:19:52.903Z"
   },
   {
    "duration": 21,
    "start_time": "2023-02-22T13:23:50.367Z"
   },
   {
    "duration": 27,
    "start_time": "2023-02-22T13:23:57.226Z"
   },
   {
    "duration": 35,
    "start_time": "2023-02-22T13:25:03.726Z"
   },
   {
    "duration": 42,
    "start_time": "2023-02-22T13:25:12.422Z"
   },
   {
    "duration": 34,
    "start_time": "2023-02-22T13:25:51.215Z"
   },
   {
    "duration": 33,
    "start_time": "2023-02-22T13:25:54.615Z"
   },
   {
    "duration": 25,
    "start_time": "2023-02-22T13:26:26.920Z"
   },
   {
    "duration": 26,
    "start_time": "2023-02-22T13:26:35.127Z"
   },
   {
    "duration": 25,
    "start_time": "2023-02-22T13:26:40.844Z"
   },
   {
    "duration": 29,
    "start_time": "2023-02-22T13:27:23.497Z"
   },
   {
    "duration": 55,
    "start_time": "2023-02-22T13:27:36.558Z"
   },
   {
    "duration": 26,
    "start_time": "2023-02-22T13:28:01.495Z"
   },
   {
    "duration": 19,
    "start_time": "2023-02-22T13:28:23.480Z"
   },
   {
    "duration": 34,
    "start_time": "2023-02-22T13:29:14.517Z"
   },
   {
    "duration": 31,
    "start_time": "2023-02-22T13:32:35.671Z"
   },
   {
    "duration": 30,
    "start_time": "2023-02-22T13:33:19.462Z"
   },
   {
    "duration": 43,
    "start_time": "2023-02-22T13:34:02.071Z"
   },
   {
    "duration": 41,
    "start_time": "2023-02-22T13:34:45.493Z"
   },
   {
    "duration": 58,
    "start_time": "2023-02-22T13:44:37.658Z"
   },
   {
    "duration": 2332,
    "start_time": "2023-02-22T13:46:23.261Z"
   },
   {
    "duration": 4,
    "start_time": "2023-02-22T13:46:25.595Z"
   },
   {
    "duration": 45,
    "start_time": "2023-02-22T13:46:25.601Z"
   },
   {
    "duration": 26,
    "start_time": "2023-02-22T13:46:25.648Z"
   },
   {
    "duration": 13,
    "start_time": "2023-02-22T13:46:25.676Z"
   },
   {
    "duration": 4,
    "start_time": "2023-02-22T13:46:25.691Z"
   },
   {
    "duration": 12,
    "start_time": "2023-02-22T13:46:25.697Z"
   },
   {
    "duration": 47,
    "start_time": "2023-02-22T13:46:25.711Z"
   },
   {
    "duration": 2,
    "start_time": "2023-02-22T13:46:25.760Z"
   },
   {
    "duration": 15,
    "start_time": "2023-02-22T13:46:25.764Z"
   },
   {
    "duration": 28,
    "start_time": "2023-02-22T13:46:25.781Z"
   },
   {
    "duration": 28,
    "start_time": "2023-02-22T13:46:41.667Z"
   },
   {
    "duration": 51,
    "start_time": "2023-02-22T13:46:44.183Z"
   },
   {
    "duration": 23,
    "start_time": "2023-02-22T13:46:51.651Z"
   },
   {
    "duration": 465,
    "start_time": "2023-02-22T13:52:52.468Z"
   },
   {
    "duration": 299,
    "start_time": "2023-02-22T13:53:27.950Z"
   },
   {
    "duration": 38228,
    "start_time": "2023-02-22T13:53:44.909Z"
   },
   {
    "duration": 16,
    "start_time": "2023-02-22T14:03:37.457Z"
   },
   {
    "duration": 43,
    "start_time": "2023-02-22T14:03:47.053Z"
   },
   {
    "duration": 645,
    "start_time": "2023-02-22T14:04:31.757Z"
   },
   {
    "duration": 12,
    "start_time": "2023-02-22T14:04:55.394Z"
   },
   {
    "duration": 284,
    "start_time": "2023-02-22T14:05:10.669Z"
   },
   {
    "duration": 54149,
    "start_time": "2023-02-22T14:05:50.836Z"
   },
   {
    "duration": 54262,
    "start_time": "2023-02-22T14:12:40.397Z"
   },
   {
    "duration": 55,
    "start_time": "2023-02-22T14:16:26.800Z"
   },
   {
    "duration": 14,
    "start_time": "2023-02-22T14:25:55.509Z"
   },
   {
    "duration": 67,
    "start_time": "2023-02-22T14:26:17.293Z"
   },
   {
    "duration": 54,
    "start_time": "2023-02-22T14:26:49.732Z"
   },
   {
    "duration": 6,
    "start_time": "2023-02-22T14:27:25.373Z"
   },
   {
    "duration": 11,
    "start_time": "2023-02-22T14:32:18.358Z"
   },
   {
    "duration": 10,
    "start_time": "2023-02-22T14:32:23.796Z"
   },
   {
    "duration": 183,
    "start_time": "2023-02-22T14:38:37.691Z"
   },
   {
    "duration": 180,
    "start_time": "2023-02-22T14:39:51.027Z"
   },
   {
    "duration": 58,
    "start_time": "2023-02-23T10:39:05.941Z"
   },
   {
    "duration": 6961,
    "start_time": "2023-02-23T10:46:32.821Z"
   },
   {
    "duration": 1328,
    "start_time": "2023-02-23T10:46:39.785Z"
   },
   {
    "duration": 198,
    "start_time": "2023-02-23T10:46:41.115Z"
   },
   {
    "duration": 27,
    "start_time": "2023-02-23T10:46:41.315Z"
   },
   {
    "duration": 21,
    "start_time": "2023-02-23T10:46:41.344Z"
   },
   {
    "duration": 6,
    "start_time": "2023-02-23T10:46:41.367Z"
   },
   {
    "duration": 12,
    "start_time": "2023-02-23T10:46:41.375Z"
   },
   {
    "duration": 12,
    "start_time": "2023-02-23T10:46:41.389Z"
   },
   {
    "duration": 3,
    "start_time": "2023-02-23T10:46:41.403Z"
   },
   {
    "duration": 15,
    "start_time": "2023-02-23T10:46:41.410Z"
   },
   {
    "duration": 50,
    "start_time": "2023-02-23T10:46:41.427Z"
   },
   {
    "duration": 25,
    "start_time": "2023-02-23T10:46:41.479Z"
   },
   {
    "duration": 491,
    "start_time": "2023-02-23T10:46:41.506Z"
   },
   {
    "duration": 755,
    "start_time": "2023-02-23T10:46:41.998Z"
   },
   {
    "duration": 39278,
    "start_time": "2023-02-23T10:46:42.755Z"
   },
   {
    "duration": 6,
    "start_time": "2023-02-23T10:47:22.035Z"
   },
   {
    "duration": 21,
    "start_time": "2023-02-23T10:47:22.043Z"
   },
   {
    "duration": 501,
    "start_time": "2023-02-23T10:47:22.066Z"
   },
   {
    "duration": 578,
    "start_time": "2023-02-23T10:47:22.568Z"
   },
   {
    "duration": 309,
    "start_time": "2023-02-23T10:47:23.148Z"
   },
   {
    "duration": 696,
    "start_time": "2023-02-23T10:47:23.464Z"
   },
   {
    "duration": 39804,
    "start_time": "2023-02-23T10:47:24.173Z"
   },
   {
    "duration": 53500,
    "start_time": "2023-02-23T10:48:03.979Z"
   },
   {
    "duration": 71,
    "start_time": "2023-02-23T10:48:57.481Z"
   },
   {
    "duration": 8,
    "start_time": "2023-02-23T10:48:57.553Z"
   },
   {
    "duration": 210,
    "start_time": "2023-02-23T10:48:57.564Z"
   },
   {
    "duration": 38019,
    "start_time": "2023-02-23T11:09:27.184Z"
   },
   {
    "duration": 50407,
    "start_time": "2023-02-23T11:10:43.164Z"
   },
   {
    "duration": 55,
    "start_time": "2023-02-23T11:13:42.293Z"
   }
  ],
  "kernelspec": {
   "display_name": "Python 3 (ipykernel)",
   "language": "python",
   "name": "python3"
  },
  "language_info": {
   "codemirror_mode": {
    "name": "ipython",
    "version": 3
   },
   "file_extension": ".py",
   "mimetype": "text/x-python",
   "name": "python",
   "nbconvert_exporter": "python",
   "pygments_lexer": "ipython3",
   "version": "3.9.12"
  },
  "toc": {
   "base_numbering": 1,
   "nav_menu": {
    "height": "292.99px",
    "width": "201.083px"
   },
   "number_sections": true,
   "sideBar": true,
   "skip_h1_title": true,
   "title_cell": "Содержание",
   "title_sidebar": "Contents",
   "toc_cell": true,
   "toc_position": {
    "height": "calc(100% - 180px)",
    "left": "10px",
    "top": "150px",
    "width": "323.594px"
   },
   "toc_section_display": true,
   "toc_window_display": false
  }
 },
 "nbformat": 4,
 "nbformat_minor": 2
}
